{
  "nbformat": 4,
  "nbformat_minor": 0,
  "metadata": {
    "colab": {
      "name": "GPU test.ipynb",
      "provenance": [],
      "authorship_tag": "ABX9TyP6tScX6b8FOZw0gkJ7HjPS",
      "include_colab_link": true
    },
    "kernelspec": {
      "name": "python3",
      "display_name": "Python 3"
    }
  },
  "cells": [
    {
      "cell_type": "markdown",
      "metadata": {
        "id": "view-in-github",
        "colab_type": "text"
      },
      "source": [
        "<a href=\"https://colab.research.google.com/github/Thing-ji/examples/blob/main/GPU_test.ipynb\" target=\"_parent\"><img src=\"https://colab.research.google.com/assets/colab-badge.svg\" alt=\"Open In Colab\"/></a>"
      ]
    },
    {
      "cell_type": "code",
      "metadata": {
        "id": "p-gVgFOX6XLI"
      },
      "source": [
        "import tensorflow.compat.v1 as tf\n",
        "tf.disable_v2_behavior()\n",
        "tf.set_random_seed(777)\n",
        "import matplotlib.pyplot as plt"
      ],
      "execution_count": null,
      "outputs": []
    },
    {
      "cell_type": "code",
      "metadata": {
        "id": "hX7RmZohQVYX"
      },
      "source": [
        "x=[1,2,3]\n",
        "y=[1,2,3]"
      ],
      "execution_count": null,
      "outputs": []
    },
    {
      "cell_type": "code",
      "metadata": {
        "id": "iv4_APQWDWj6"
      },
      "source": [
        "w = tf.Variable(5.)"
      ],
      "execution_count": null,
      "outputs": []
    },
    {
      "cell_type": "code",
      "metadata": {
        "id": "W-FKT-t2DZoS"
      },
      "source": [
        "hypothesis = x*w"
      ],
      "execution_count": null,
      "outputs": []
    },
    {
      "cell_type": "code",
      "metadata": {
        "id": "kJNEd8xgDfRx"
      },
      "source": [
        "gradient = tf.reduce_mean((w*x-y)*x)*2"
      ],
      "execution_count": null,
      "outputs": []
    },
    {
      "cell_type": "code",
      "metadata": {
        "id": "a0kW09-CDrde"
      },
      "source": [
        "cost = tf.reduce_mean(tf.square(hypothesis - y))\n",
        "optimizer = tf.train.GradientDescentOptimizer(learning_rate = 0.1)"
      ],
      "execution_count": null,
      "outputs": []
    },
    {
      "cell_type": "code",
      "metadata": {
        "id": "-7gY39j6D7gC"
      },
      "source": [
        "gvs = optimizer.compute_gradients(cost)\n",
        "apply_gradient = optimizer.apply_gradients(gvs)"
      ],
      "execution_count": null,
      "outputs": []
    },
    {
      "cell_type": "code",
      "metadata": {
        "id": "3AsrRd8YELYv"
      },
      "source": [
        "sess = tf.Session()\n",
        "sess.run(tf.global_variables_initializer())"
      ],
      "execution_count": null,
      "outputs": []
    },
    {
      "cell_type": "code",
      "metadata": {
        "id": "cP1QRC00ES5H"
      },
      "source": [
        "for step in range(100):\n",
        "  print(step, sess.run([gradient,w, gvs]))\n",
        "  sess.run(apply_gradients)"
      ],
      "execution_count": null,
      "outputs": []
    },
    {
      "cell_type": "markdown",
      "metadata": {
        "id": "p0AdVkQzJMoi"
      },
      "source": [
        "# section 3\n"
      ]
    },
    {
      "cell_type": "markdown",
      "metadata": {
        "id": "qKo_ixNzJU9F"
      },
      "source": [
        "# 새 섹션"
      ]
    },
    {
      "cell_type": "code",
      "metadata": {
        "id": "qEPXPC8AEhAP"
      },
      "source": [
        ""
      ],
      "execution_count": null,
      "outputs": []
    }
  ]
}