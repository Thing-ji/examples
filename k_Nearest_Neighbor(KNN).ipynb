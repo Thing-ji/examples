{
  "nbformat": 4,
  "nbformat_minor": 0,
  "metadata": {
    "colab": {
      "name": "k-Nearest Neighbor(KNN).ipynb",
      "provenance": [],
      "collapsed_sections": [],
      "authorship_tag": "ABX9TyMpfYVSIxTWv92f4m+77Gwl",
      "include_colab_link": true
    },
    "kernelspec": {
      "name": "python3",
      "display_name": "Python 3"
    }
  },
  "cells": [
    {
      "cell_type": "markdown",
      "metadata": {
        "id": "view-in-github",
        "colab_type": "text"
      },
      "source": [
        "<a href=\"https://colab.research.google.com/github/Thing-ji/examples/blob/main/k_Nearest_Neighbor(KNN).ipynb\" target=\"_parent\"><img src=\"https://colab.research.google.com/assets/colab-badge.svg\" alt=\"Open In Colab\"/></a>"
      ]
    },
    {
      "cell_type": "code",
      "metadata": {
        "id": "FtDhowS5TLL8"
      },
      "source": [
        "from sklearn import neighbors, datasets"
      ],
      "execution_count": 1,
      "outputs": []
    },
    {
      "cell_type": "code",
      "metadata": {
        "id": "9v4Qihd6Tgfw"
      },
      "source": [
        "import numpy as np\n",
        "import matplotlib.pyplot as plt\n",
        "from matplotlib.colors import ListedColormap"
      ],
      "execution_count": 2,
      "outputs": []
    },
    {
      "cell_type": "code",
      "metadata": {
        "id": "0koh-ao1UB_m"
      },
      "source": [
        "iris = datasets.load_iris()\n",
        "\n",
        "x = iris.data[:, :2]\n",
        "y = iris.target"
      ],
      "execution_count": 3,
      "outputs": []
    },
    {
      "cell_type": "markdown",
      "metadata": {
        "id": "NKbn0qQSUtpY"
      },
      "source": [
        " * 모델 구축"
      ]
    },
    {
      "cell_type": "code",
      "metadata": {
        "id": "mcbDC9iHUsEy",
        "colab": {
          "base_uri": "https://localhost:8080/"
        },
        "outputId": "c263f649-764d-44e3-be5f-912a2b409d89"
      },
      "source": [
        "cif = neighbors.KNeighborsClassifier(5)\n",
        "cif.fit(x, y)"
      ],
      "execution_count": 4,
      "outputs": [
        {
          "output_type": "execute_result",
          "data": {
            "text/plain": [
              "KNeighborsClassifier(algorithm='auto', leaf_size=30, metric='minkowski',\n",
              "                     metric_params=None, n_jobs=None, n_neighbors=5, p=2,\n",
              "                     weights='uniform')"
            ]
          },
          "metadata": {
            "tags": []
          },
          "execution_count": 4
        }
      ]
    },
    {
      "cell_type": "code",
      "metadata": {
        "id": "CJadga4XUJm7"
      },
      "source": [
        "y_pred = cif.predict(x)"
      ],
      "execution_count": 5,
      "outputs": []
    },
    {
      "cell_type": "code",
      "metadata": {
        "id": "6SPPp9gSVMu_"
      },
      "source": [
        "from sklearn.metrics import confusion_matrix"
      ],
      "execution_count": 6,
      "outputs": []
    },
    {
      "cell_type": "code",
      "metadata": {
        "id": "GLUS-lrlVhbU",
        "colab": {
          "base_uri": "https://localhost:8080/"
        },
        "outputId": "24ad9e0a-a924-4600-df55-3b7c3fc23efc"
      },
      "source": [
        "confusion_matrix(y, y_pred)"
      ],
      "execution_count": 7,
      "outputs": [
        {
          "output_type": "execute_result",
          "data": {
            "text/plain": [
              "array([[49,  1,  0],\n",
              "       [ 0, 38, 12],\n",
              "       [ 0, 12, 38]])"
            ]
          },
          "metadata": {
            "tags": []
          },
          "execution_count": 7
        }
      ]
    },
    {
      "cell_type": "markdown",
      "metadata": {
        "id": "B3Tna5axXnaW"
      },
      "source": [
        "# 2. Cross-validation을 활용한 최적의 k찾기"
      ]
    },
    {
      "cell_type": "markdown",
      "metadata": {
        "id": "060az_5_XxUe"
      },
      "source": [
        "* 함수 불러오기"
      ]
    },
    {
      "cell_type": "code",
      "metadata": {
        "id": "1Oa-C1n6XTQ1"
      },
      "source": [
        "from sklearn.model_selection import train_test_split\n",
        "from sklearn.neighbors import KNeighborsClassifier"
      ],
      "execution_count": 8,
      "outputs": []
    },
    {
      "cell_type": "markdown",
      "metadata": {
        "id": "4BQWiQOr8Ip0"
      },
      "source": [
        "* CV 진행"
      ]
    },
    {
      "cell_type": "code",
      "metadata": {
        "id": "DTgTkE0gBo2i"
      },
      "source": [
        "# x_train, x_test, y_train, y_test = train_test_split(iris.data, iris.target, test_size = 0.3, random_state = 2019 )"
      ],
      "execution_count": 9,
      "outputs": []
    },
    {
      "cell_type": "code",
      "metadata": {
        "id": "RzLWY2WmByy2"
      },
      "source": [
        "#knn = KNeighborsClassifier(n_neighbors = 3)\n",
        "#knn.fit(x_train, y_train)\n"
      ],
      "execution_count": 10,
      "outputs": []
    },
    {
      "cell_type": "code",
      "metadata": {
        "id": "uYZ6WAoWDXyp"
      },
      "source": [
        "#print('accuracy : {:.2f}'.format(knn.score(x_test, y_test)))"
      ],
      "execution_count": 11,
      "outputs": []
    },
    {
      "cell_type": "code",
      "metadata": {
        "id": "Ds1okNxHElo1"
      },
      "source": [
        "from sklearn.model_selection import KFold \n",
        "from sklearn.model_selection import cross_val_score"
      ],
      "execution_count": 12,
      "outputs": []
    },
    {
      "cell_type": "code",
      "metadata": {
        "id": "fEXN5KxGEKXD"
      },
      "source": [
        "k_range = range(1, 100)\n",
        "k_scores = []\n",
        "\n",
        "for k in k_range:\n",
        "  knn = neighbors.KNeighborsClassifier(k)\n",
        "  scores = cross_val_score(knn, x, y, cv = 10, scoring = \"accuracy\")\n",
        "  k_scores.append(scores.mean())"
      ],
      "execution_count": 13,
      "outputs": []
    },
    {
      "cell_type": "code",
      "metadata": {
        "id": "Hl7zoalVHJbZ",
        "colab": {
          "base_uri": "https://localhost:8080/",
          "height": 279
        },
        "outputId": "0972bab6-b6dd-4564-b110-658676f4e334"
      },
      "source": [
        "plt.plot(k_range, k_scores)\n",
        "plt.xlabel(\"Value of K for KNN\")\n",
        "plt.ylabel(\"Cross-validation accuracy\")\n",
        "plt.show()"
      ],
      "execution_count": 14,
      "outputs": [
        {
          "output_type": "display_data",
          "data": {
            "image/png": "[encoded data removed]",
            "text/plain": [
              "<Figure size 432x288 with 1 Axes>"
            ]
          },
          "metadata": {
            "tags": [],
            "needs_background": "light"
          }
        }
      ]
    },
    {
      "cell_type": "markdown",
      "metadata": {
        "id": "e4qTw4oHlGuy"
      },
      "source": [
        "# 2. Weight를 준 KNN"
      ]
    },
    {
      "cell_type": "code",
      "metadata": {
        "id": "t-aOYEQSlF6Q"
      },
      "source": [
        "n_neighbors = 40\n",
        "\n",
        "h = .02 # step size in the mesh\n",
        "\n"
      ],
      "execution_count": null,
      "outputs": []
    }
  ]
}