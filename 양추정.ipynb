{
  "nbformat": 4,
  "nbformat_minor": 0,
  "metadata": {
    "colab": {
      "name": "양추정.ipynb",
      "provenance": [],
      "collapsed_sections": [],
      "authorship_tag": "ABX9TyOE02/8DMjBrKJ/MhzehLAX",
      "include_colab_link": true
    },
    "kernelspec": {
      "name": "python3",
      "display_name": "Python 3"
    }
  },
  "cells": [
    {
      "cell_type": "markdown",
      "metadata": {
        "id": "view-in-github",
        "colab_type": "text"
      },
      "source": [
        "<a href=\"https://colab.research.google.com/github/Thing-ji/examples/blob/main/%EC%96%91%EC%B6%94%EC%A0%95.ipynb\" target=\"_parent\"><img src=\"https://colab.research.google.com/assets/colab-badge.svg\" alt=\"Open In Colab\"/></a>"
      ]
    },
    {
      "cell_type": "code",
      "metadata": {
        "colab": {
          "base_uri": "https://localhost:8080/"
        },
        "id": "AR2Jr8IbbS5i",
        "outputId": "14f27b6e-e122-438f-cd7e-8bdec946833a"
      },
      "source": [
        "!nvidia-smi"
      ],
      "execution_count": null,
      "outputs": [
        {
          "output_type": "stream",
          "text": [
            "NVIDIA-SMI has failed because it couldn't communicate with the NVIDIA driver. Make sure that the latest NVIDIA driver is installed and running.\n",
            "\n"
          ],
          "name": "stdout"
        }
      ]
    },
    {
      "cell_type": "code",
      "metadata": {
        "id": "Xo6bY8ORovPq"
      },
      "source": [
        "import pandas as pd\r\n",
        "import numpy as np\r\n"
      ],
      "execution_count": null,
      "outputs": []
    },
    {
      "cell_type": "code",
      "metadata": {
        "id": "IyMUV4oepxBX"
      },
      "source": [
        "import tensorflow as tf"
      ],
      "execution_count": null,
      "outputs": []
    },
    {
      "cell_type": "code",
      "metadata": {
        "id": "2J35i2K8tT6I"
      },
      "source": [
        "from sklearn.model_selection import train_test_split\r\n",
        "from sklearn.ensemble import RandomForestClassifier\r\n",
        "from sklearn.metrics import accuracy_score\r\n",
        "from sklearn.metrics import confusion_matrix"
      ],
      "execution_count": null,
      "outputs": []
    },
    {
      "cell_type": "code",
      "metadata": {
        "id": "jBZ4RDLnp4k1"
      },
      "source": [
        "df = pd.read_csv('est_dish.csv', encoding = 'cp949')"
      ],
      "execution_count": null,
      "outputs": []
    },
    {
      "cell_type": "code",
      "metadata": {
        "id": "qqiQuwg7p-vk"
      },
      "source": [
        "df['real_spoon_w'] = 5\r\n",
        "df['real_spoon_h'] = 3.5\r\n",
        "\r\n",
        "df['real_fork_w'] = 5.5\r\n",
        "df['real_fork_h'] = 2.5\r\n",
        "\r\n",
        "df['real_coin_w'] = 2.5\r\n",
        "df['real_coin_w'] = 2.5"
      ],
      "execution_count": null,
      "outputs": []
    },
    {
      "cell_type": "code",
      "metadata": {
        "id": "rEl1nMrhqda9"
      },
      "source": [
        "df['d_w_cm'] = (df['dish_width']*2.54)/(df['dip'])\r\n",
        "df['d_h_cm'] = (df['dish_height']*2.54)/(df['dip'])\r\n",
        "\r\n",
        "df['f_w_cm'] = (df['food_width']*2.54)/(df['dip'])\r\n",
        "df['f_h_cm'] = (df['food_height']*2.54)/(df['dip'])\r\n",
        "\r\n",
        "df['c_w_cm'] = (df['ref_coin_width']*2.54)/(df['dip'])\r\n",
        "df['c_h_cm'] = (df['ref_coin_height']*2.54)/(df['dip'])\r\n",
        "\r\n",
        "df['fr_w_cm'] = (df['ref_fork_width']*2.54)/(df['dip'])\r\n",
        "df['fr_h_cm'] = (df['ref_fork_height']*2.54)/(df['dip'])\r\n",
        "\r\n",
        "df['s_w_cm'] = (df['ref_spoon_width']*2.54)/(df['dip'])\r\n",
        "df['s_h_cm'] = (df['ref_spoon_height']*2.54)/(df['dip'])"
      ],
      "execution_count": null,
      "outputs": []
    },
    {
      "cell_type": "code",
      "metadata": {
        "id": "HFoAooqKqfPr"
      },
      "source": [
        "df1 = df.copy()"
      ],
      "execution_count": null,
      "outputs": []
    },
    {
      "cell_type": "code",
      "metadata": {
        "id": "3VmNtegmqfbj"
      },
      "source": [
        "df1['food_wXh'] = df1['f_w_cm'] * df1['f_h_cm']\r\n",
        "df1['dish_wXh'] = df1['d_w_cm'] * df1['d_h_cm']\r\n",
        "df1['spoon_wXh'] = df1['s_w_cm'] * df1['s_h_cm']"
      ],
      "execution_count": null,
      "outputs": []
    },
    {
      "cell_type": "code",
      "metadata": {
        "colab": {
          "base_uri": "https://localhost:8080/"
        },
        "id": "KAWqgy5ErGFC",
        "outputId": "12c58e2f-ec7f-4783-eabe-287de033b8de"
      },
      "source": [
        "df.columns"
      ],
      "execution_count": null,
      "outputs": [
        {
          "output_type": "execute_result",
          "data": {
            "text/plain": [
              "Index(['Unnamed: 0', 'file_name', 'view', 'menu1', 'menu2', 'box', 'quantity',\n",
              "       'dish_xmin', 'dish_ymin', 'dish_xmax', 'dish_ymax', 'dish_width',\n",
              "       'dish_height', 'food_xmin', 'food_ymin', 'food_xmax', 'food_ymax',\n",
              "       'food_width', 'food_height', 'ref_coin_xmin', 'ref_coin_ymin',\n",
              "       'ref_coin_xmax', 'ref_coin_ymax', 'ref_coin_width', 'ref_coin_height',\n",
              "       'ref_fork_xmin', 'ref_fork_ymin', 'ref_fork_xmax', 'ref_fork_ymax',\n",
              "       'ref_fork_width', 'ref_fork_height', 'ref_spoon_xmin', 'ref_spoon_ymin',\n",
              "       'ref_spoon_xmax', 'ref_spoon_ymax', 'ref_spoon_width',\n",
              "       'ref_spoon_height', 'real_dish_l', 'real_dish_w', 'real_dish_h', 'dip',\n",
              "       'real_spoon_w', 'real_spoon_h', 'real_fork_w', 'real_fork_h',\n",
              "       'real_coin_w', 'd_w_cm', 'd_h_cm', 'f_w_cm', 'f_h_cm', 'c_w_cm',\n",
              "       'c_h_cm', 'fr_w_cm', 'fr_h_cm', 's_w_cm', 's_h_cm'],\n",
              "      dtype='object')"
            ]
          },
          "metadata": {
            "tags": []
          },
          "execution_count": 11
        }
      ]
    },
    {
      "cell_type": "code",
      "metadata": {
        "id": "7mUl6d8aqfg4"
      },
      "source": [
        "df1['real_wXh'] = df1['real_spoon_w'] * df1['real_spoon_h']\r\n",
        "df1['s_wXh'] = df1['s_w_cm'] * df1['s_h_cm']\r\n",
        "df1['d_wXh'] = df1['d_w_cm'] * df1['d_h_cm']\r\n",
        "df1['f_wXh'] = df1['f_w_cm'] * df1['f_h_cm']\r\n",
        "\r\n",
        "df1['real_prop'] = df1['real_wXh'] / df1['s_wXh']\r\n",
        "df1['real_food_size'] = df1['real_prop'] * df1['f_wXh']\r\n",
        "df1['real_dish_size'] = df1['real_prop'] * df1['d_wXh']\r\n",
        "\r\n",
        "df1['prop'] = df1['real_food_size'] / df1['real_dish_size']"
      ],
      "execution_count": null,
      "outputs": []
    },
    {
      "cell_type": "code",
      "metadata": {
        "id": "ql0nzldgqflI"
      },
      "source": [
        "df1 = df1[['menu1', 'menu2', 'quantity', 'view','real_spoon_w', 'real_spoon_h', 'd_w_cm', 'd_h_cm', 'f_w_cm', 'f_h_cm',\r\n",
        "    's_w_cm', 's_h_cm']]"
      ],
      "execution_count": null,
      "outputs": []
    },
    {
      "cell_type": "code",
      "metadata": {
        "id": "MyFv5N8sqfos"
      },
      "source": [
        "df1 = df1.drop(['d_w_cm', 'd_h_cm', 'f_w_cm', 'f_h_cm', 's_w_cm', 's_h_cm'], axis = 1)"
      ],
      "execution_count": null,
      "outputs": []
    },
    {
      "cell_type": "code",
      "metadata": {
        "colab": {
          "base_uri": "https://localhost:8080/",
          "height": 195
        },
        "id": "ki3jWRTiqfsQ",
        "outputId": "16451fa3-ecfb-44ce-98f9-26f7498488b0"
      },
      "source": [
        "df1['s_wXh'] = df1['s_wXh'].map(lambda i:np.log(i) if i > 0 else 0)\r\n",
        "# df1['prop'] = df1['prop'].map(lambda i:np.log(i) if i > 0 else 0)\r\n",
        "df1['d_wXh'] = df1['d_wXh'].map(lambda i:np.log(i) if i > 0 else 0)\r\n",
        "\r\n",
        "df1['f_wXh'] = df1['f_wXh'].map(lambda i:np.log(i) if i > 0 else 0)\r\n",
        "df1['real_prop'] = df1['real_prop'].map(lambda i:np.log(i) if i > 0 else 0)\r\n",
        "df1['real_food_size'] = df1['real_food_size'].map(lambda i:np.log(i) if i > 0 else 0)\r\n",
        "\r\n",
        "df1['real_dish_size'] = df1['real_dish_size'].map(lambda i:np.log(i) if i > 0 else 0)\r\n",
        "df1.head()"
      ],
      "execution_count": null,
      "outputs": [
        {
          "output_type": "execute_result",
          "data": {
            "text/html": [
              "<div>\n",
              "<style scoped>\n",
              "    .dataframe tbody tr th:only-of-type {\n",
              "        vertical-align: middle;\n",
              "    }\n",
              "\n",
              "    .dataframe tbody tr th {\n",
              "        vertical-align: top;\n",
              "    }\n",
              "\n",
              "    .dataframe thead th {\n",
              "        text-align: right;\n",
              "    }\n",
              "</style>\n",
              "<table border=\"1\" class=\"dataframe\">\n",
              "  <thead>\n",
              "    <tr style=\"text-align: right;\">\n",
              "      <th></th>\n",
              "      <th>menu1</th>\n",
              "      <th>menu2</th>\n",
              "      <th>quantity</th>\n",
              "      <th>view</th>\n",
              "      <th>real_spoon_w</th>\n",
              "      <th>real_spoon_h</th>\n",
              "      <th>real_wXh</th>\n",
              "      <th>s_wXh</th>\n",
              "      <th>d_wXh</th>\n",
              "      <th>f_wXh</th>\n",
              "      <th>real_prop</th>\n",
              "      <th>real_food_size</th>\n",
              "      <th>real_dish_size</th>\n",
              "      <th>prop</th>\n",
              "    </tr>\n",
              "  </thead>\n",
              "  <tbody>\n",
              "    <tr>\n",
              "      <th>0</th>\n",
              "      <td>건더기국류</td>\n",
              "      <td>꽃게탕</td>\n",
              "      <td>Q1</td>\n",
              "      <td>side</td>\n",
              "      <td>5</td>\n",
              "      <td>3.5</td>\n",
              "      <td>17.5</td>\n",
              "      <td>1.585316</td>\n",
              "      <td>4.345640</td>\n",
              "      <td>3.212461</td>\n",
              "      <td>1.276885</td>\n",
              "      <td>4.489346</td>\n",
              "      <td>5.622525</td>\n",
              "      <td>0.322008</td>\n",
              "    </tr>\n",
              "    <tr>\n",
              "      <th>1</th>\n",
              "      <td>건더기국류</td>\n",
              "      <td>꽃게탕</td>\n",
              "      <td>Q1</td>\n",
              "      <td>side</td>\n",
              "      <td>5</td>\n",
              "      <td>3.5</td>\n",
              "      <td>17.5</td>\n",
              "      <td>1.637351</td>\n",
              "      <td>4.310808</td>\n",
              "      <td>3.226066</td>\n",
              "      <td>1.224850</td>\n",
              "      <td>4.450916</td>\n",
              "      <td>5.535658</td>\n",
              "      <td>0.337989</td>\n",
              "    </tr>\n",
              "    <tr>\n",
              "      <th>2</th>\n",
              "      <td>건더기국류</td>\n",
              "      <td>꽃게탕</td>\n",
              "      <td>Q1</td>\n",
              "      <td>side</td>\n",
              "      <td>5</td>\n",
              "      <td>3.5</td>\n",
              "      <td>17.5</td>\n",
              "      <td>1.629319</td>\n",
              "      <td>4.326738</td>\n",
              "      <td>3.256828</td>\n",
              "      <td>1.232882</td>\n",
              "      <td>4.489710</td>\n",
              "      <td>5.559620</td>\n",
              "      <td>0.343039</td>\n",
              "    </tr>\n",
              "    <tr>\n",
              "      <th>3</th>\n",
              "      <td>건더기국류</td>\n",
              "      <td>꽃게탕</td>\n",
              "      <td>Q1</td>\n",
              "      <td>side</td>\n",
              "      <td>5</td>\n",
              "      <td>3.5</td>\n",
              "      <td>17.5</td>\n",
              "      <td>1.694590</td>\n",
              "      <td>4.322245</td>\n",
              "      <td>3.314252</td>\n",
              "      <td>1.167611</td>\n",
              "      <td>4.481863</td>\n",
              "      <td>5.489856</td>\n",
              "      <td>0.364951</td>\n",
              "    </tr>\n",
              "    <tr>\n",
              "      <th>4</th>\n",
              "      <td>건더기국류</td>\n",
              "      <td>꽃게탕</td>\n",
              "      <td>Q1</td>\n",
              "      <td>side</td>\n",
              "      <td>5</td>\n",
              "      <td>3.5</td>\n",
              "      <td>17.5</td>\n",
              "      <td>1.658222</td>\n",
              "      <td>4.332876</td>\n",
              "      <td>3.278692</td>\n",
              "      <td>1.203979</td>\n",
              "      <td>4.482671</td>\n",
              "      <td>5.536854</td>\n",
              "      <td>0.348477</td>\n",
              "    </tr>\n",
              "  </tbody>\n",
              "</table>\n",
              "</div>"
            ],
            "text/plain": [
              "   menu1 menu2 quantity  ... real_food_size  real_dish_size      prop\n",
              "0  건더기국류   꽃게탕       Q1  ...       4.489346        5.622525  0.322008\n",
              "1  건더기국류   꽃게탕       Q1  ...       4.450916        5.535658  0.337989\n",
              "2  건더기국류   꽃게탕       Q1  ...       4.489710        5.559620  0.343039\n",
              "3  건더기국류   꽃게탕       Q1  ...       4.481863        5.489856  0.364951\n",
              "4  건더기국류   꽃게탕       Q1  ...       4.482671        5.536854  0.348477\n",
              "\n",
              "[5 rows x 14 columns]"
            ]
          },
          "metadata": {
            "tags": []
          },
          "execution_count": 17
        }
      ]
    },
    {
      "cell_type": "code",
      "metadata": {
        "colab": {
          "base_uri": "https://localhost:8080/"
        },
        "id": "e35pIrIQrn6o",
        "outputId": "1b293239-ac44-4312-eba1-70f8f989b30e"
      },
      "source": [
        "df1.columns"
      ],
      "execution_count": null,
      "outputs": [
        {
          "output_type": "execute_result",
          "data": {
            "text/plain": [
              "Index(['menu1', 'menu2', 'quantity', 'view', 'real_spoon_w', 'real_spoon_h',\n",
              "       'real_wXh', 's_wXh', 'd_wXh', 'f_wXh', 'real_prop', 'real_food_size',\n",
              "       'real_dish_size', 'prop'],\n",
              "      dtype='object')"
            ]
          },
          "metadata": {
            "tags": []
          },
          "execution_count": 18
        }
      ]
    },
    {
      "cell_type": "code",
      "metadata": {
        "id": "Rwto3qr3qfvk"
      },
      "source": [
        "df1 = df1.drop(['menu1', 'menu2','view','real_spoon_w', 'real_spoon_h', 'real_wXh', 'real_dish_size'], axis = 1)"
      ],
      "execution_count": null,
      "outputs": []
    },
    {
      "cell_type": "code",
      "metadata": {
        "id": "7ksiZNHuqfy5"
      },
      "source": [
        "df1 = pd.get_dummies(df1)"
      ],
      "execution_count": null,
      "outputs": []
    },
    {
      "cell_type": "code",
      "metadata": {
        "colab": {
          "base_uri": "https://localhost:8080/",
          "height": 195
        },
        "id": "0lV4Pf2oqf2g",
        "outputId": "efb90b60-0fe5-4356-b3de-f874bc319aaa"
      },
      "source": [
        "df1.head()"
      ],
      "execution_count": null,
      "outputs": [
        {
          "output_type": "execute_result",
          "data": {
            "text/html": [
              "<div>\n",
              "<style scoped>\n",
              "    .dataframe tbody tr th:only-of-type {\n",
              "        vertical-align: middle;\n",
              "    }\n",
              "\n",
              "    .dataframe tbody tr th {\n",
              "        vertical-align: top;\n",
              "    }\n",
              "\n",
              "    .dataframe thead th {\n",
              "        text-align: right;\n",
              "    }\n",
              "</style>\n",
              "<table border=\"1\" class=\"dataframe\">\n",
              "  <thead>\n",
              "    <tr style=\"text-align: right;\">\n",
              "      <th></th>\n",
              "      <th>s_wXh</th>\n",
              "      <th>d_wXh</th>\n",
              "      <th>f_wXh</th>\n",
              "      <th>real_prop</th>\n",
              "      <th>real_food_size</th>\n",
              "      <th>prop</th>\n",
              "      <th>quantity_Q1</th>\n",
              "      <th>quantity_Q2</th>\n",
              "      <th>quantity_Q3</th>\n",
              "      <th>quantity_Q4</th>\n",
              "      <th>quantity_Q5</th>\n",
              "    </tr>\n",
              "  </thead>\n",
              "  <tbody>\n",
              "    <tr>\n",
              "      <th>0</th>\n",
              "      <td>1.585316</td>\n",
              "      <td>4.345640</td>\n",
              "      <td>3.212461</td>\n",
              "      <td>1.276885</td>\n",
              "      <td>4.489346</td>\n",
              "      <td>0.322008</td>\n",
              "      <td>1</td>\n",
              "      <td>0</td>\n",
              "      <td>0</td>\n",
              "      <td>0</td>\n",
              "      <td>0</td>\n",
              "    </tr>\n",
              "    <tr>\n",
              "      <th>1</th>\n",
              "      <td>1.637351</td>\n",
              "      <td>4.310808</td>\n",
              "      <td>3.226066</td>\n",
              "      <td>1.224850</td>\n",
              "      <td>4.450916</td>\n",
              "      <td>0.337989</td>\n",
              "      <td>1</td>\n",
              "      <td>0</td>\n",
              "      <td>0</td>\n",
              "      <td>0</td>\n",
              "      <td>0</td>\n",
              "    </tr>\n",
              "    <tr>\n",
              "      <th>2</th>\n",
              "      <td>1.629319</td>\n",
              "      <td>4.326738</td>\n",
              "      <td>3.256828</td>\n",
              "      <td>1.232882</td>\n",
              "      <td>4.489710</td>\n",
              "      <td>0.343039</td>\n",
              "      <td>1</td>\n",
              "      <td>0</td>\n",
              "      <td>0</td>\n",
              "      <td>0</td>\n",
              "      <td>0</td>\n",
              "    </tr>\n",
              "    <tr>\n",
              "      <th>3</th>\n",
              "      <td>1.694590</td>\n",
              "      <td>4.322245</td>\n",
              "      <td>3.314252</td>\n",
              "      <td>1.167611</td>\n",
              "      <td>4.481863</td>\n",
              "      <td>0.364951</td>\n",
              "      <td>1</td>\n",
              "      <td>0</td>\n",
              "      <td>0</td>\n",
              "      <td>0</td>\n",
              "      <td>0</td>\n",
              "    </tr>\n",
              "    <tr>\n",
              "      <th>4</th>\n",
              "      <td>1.658222</td>\n",
              "      <td>4.332876</td>\n",
              "      <td>3.278692</td>\n",
              "      <td>1.203979</td>\n",
              "      <td>4.482671</td>\n",
              "      <td>0.348477</td>\n",
              "      <td>1</td>\n",
              "      <td>0</td>\n",
              "      <td>0</td>\n",
              "      <td>0</td>\n",
              "      <td>0</td>\n",
              "    </tr>\n",
              "  </tbody>\n",
              "</table>\n",
              "</div>"
            ],
            "text/plain": [
              "      s_wXh     d_wXh     f_wXh  ...  quantity_Q3  quantity_Q4  quantity_Q5\n",
              "0  1.585316  4.345640  3.212461  ...            0            0            0\n",
              "1  1.637351  4.310808  3.226066  ...            0            0            0\n",
              "2  1.629319  4.326738  3.256828  ...            0            0            0\n",
              "3  1.694590  4.322245  3.314252  ...            0            0            0\n",
              "4  1.658222  4.332876  3.278692  ...            0            0            0\n",
              "\n",
              "[5 rows x 11 columns]"
            ]
          },
          "metadata": {
            "tags": []
          },
          "execution_count": 23
        }
      ]
    },
    {
      "cell_type": "code",
      "metadata": {
        "id": "3KN-hNFAtm1G"
      },
      "source": [
        "feature_columns = list(df1.columns.difference(['quantity_Q1',\t'quantity_Q2',\t'quantity_Q3'\t,'quantity_Q4',\t'quantity_Q5']))\r\n",
        "X = df1[feature_columns]\r\n",
        "y = df1[['quantity_Q1',\t'quantity_Q2',\t'quantity_Q3'\t,'quantity_Q4',\t'quantity_Q5']] # target"
      ],
      "execution_count": null,
      "outputs": []
    },
    {
      "cell_type": "code",
      "metadata": {
        "id": "RowuH3hosZPg"
      },
      "source": [
        "# 모델적용\r\n",
        "np.random.seed(100)\r\n",
        "train_x, test_x, train_y, test_y = train_test_split(X, y, test_size = 0.2, random_state = 42)\r\n"
      ],
      "execution_count": null,
      "outputs": []
    },
    {
      "cell_type": "code",
      "metadata": {
        "id": "0edZxgY5qf6A"
      },
      "source": [
        "t_x = tf.keras.layers.Input(shape = [6])\r\n",
        "t_y = tf.keras.layers.Dense(5, activation = 'softmax')(t_x)\r\n",
        "model = tf.keras.models.Model(t_x, t_y)\r\n",
        "model.compile(loss = 'categorical_crossentropy', metrics = 'accuracy')"
      ],
      "execution_count": null,
      "outputs": []
    },
    {
      "cell_type": "code",
      "metadata": {
        "colab": {
          "base_uri": "https://localhost:8080/"
        },
        "id": "r_h4YPy6qf9U",
        "outputId": "3b214bf3-fbd3-4da3-a928-c3a96bd343e5"
      },
      "source": [
        "model.fit(X, y, epochs = 1000, verbose = 0)\r\n",
        "model.fit(X, y, epochs = 10)"
      ],
      "execution_count": null,
      "outputs": [
        {
          "output_type": "stream",
          "text": [
            "Epoch 1/10\n",
            "1408/1408 [==============================] - 1s 930us/step - loss: 1.4107 - accuracy: 0.3432\n",
            "Epoch 2/10\n",
            "1408/1408 [==============================] - 1s 964us/step - loss: 1.4110 - accuracy: 0.3427\n",
            "Epoch 3/10\n",
            "1408/1408 [==============================] - 1s 988us/step - loss: 1.4109 - accuracy: 0.3432\n",
            "Epoch 4/10\n",
            "1408/1408 [==============================] - 1s 962us/step - loss: 1.4107 - accuracy: 0.3441\n",
            "Epoch 5/10\n",
            "1408/1408 [==============================] - 1s 984us/step - loss: 1.4109 - accuracy: 0.3416\n",
            "Epoch 6/10\n",
            "1408/1408 [==============================] - 1s 961us/step - loss: 1.4106 - accuracy: 0.3428\n",
            "Epoch 7/10\n",
            "1408/1408 [==============================] - 1s 961us/step - loss: 1.4106 - accuracy: 0.3420\n",
            "Epoch 8/10\n",
            "1408/1408 [==============================] - 1s 958us/step - loss: 1.4107 - accuracy: 0.3427\n",
            "Epoch 9/10\n",
            "1408/1408 [==============================] - 1s 964us/step - loss: 1.4107 - accuracy: 0.3425\n",
            "Epoch 10/10\n",
            "1408/1408 [==============================] - 1s 979us/step - loss: 1.4107 - accuracy: 0.3434\n"
          ],
          "name": "stdout"
        },
        {
          "output_type": "execute_result",
          "data": {
            "text/plain": [
              "<tensorflow.python.keras.callbacks.History at 0x7fddc308f630>"
            ]
          },
          "metadata": {
            "tags": []
          },
          "execution_count": 32
        }
      ]
    }
  ]
}