{
  "nbformat": 4,
  "nbformat_minor": 0,
  "metadata": {
    "colab": {
      "name": "센서데이터.ipynb",
      "provenance": [],
      "collapsed_sections": [],
      "authorship_tag": "ABX9TyOHkAgEdAxkbkAp0Ry8dJL+",
      "include_colab_link": true
    },
    "kernelspec": {
      "name": "python3",
      "display_name": "Python 3"
    }
  },
  "cells": [
    {
      "cell_type": "markdown",
      "metadata": {
        "id": "view-in-github",
        "colab_type": "text"
      },
      "source": [
        "<a href=\"https://colab.research.google.com/github/Thing-ji/examples/blob/main/%EC%84%BC%EC%84%9C%EB%8D%B0%EC%9D%B4%ED%84%B0.ipynb\" target=\"_parent\"><img src=\"https://colab.research.google.com/assets/colab-badge.svg\" alt=\"Open In Colab\"/></a>"
      ]
    },
    {
      "cell_type": "markdown",
      "metadata": {
        "id": "bQe2BLp7bvuB"
      },
      "source": [
        "센서정보를 이용한 패턴인식\n",
        "\n",
        " 온도/습도/기압에 따라 지수가 좋고(1) 그렇지 않음(0)을 인식합니다.\n",
        " 본 프로그램은 머신러닝 수업 개별 프로잭트 발표자료이며 캐글에서 가져온 data입니다.\n",
        " \n",
        " https://www.kaggle.com/yungbyun/sensor-data-analysis/data"
      ]
    },
    {
      "cell_type": "code",
      "metadata": {
        "id": "XT4ILCbHa_g4",
        "colab": {
          "base_uri": "https://localhost:8080/",
          "height": 72
        },
        "outputId": "7f349db7-44a9-4c23-9e79-3bab54a9a886"
      },
      "source": [
        "import os  # OS : operating system의 약자로 운영체제를 의미한다.\n",
        "import sys\n",
        "from pandas import Series\n",
        "import pandas as pd\n",
        "import numpy as np\n",
        "import traceback # traceback 이란 오류를 발생시킨 함수 호출을 역추적한 내용\n",
        "import time\n",
        "import seaborn as sns\n",
        "import matplotlib.pyplot as plt"
      ],
      "execution_count": null,
      "outputs": [
        {
          "output_type": "stream",
          "text": [
            "/usr/local/lib/python3.6/dist-packages/statsmodels/tools/_testing.py:19: FutureWarning: pandas.util.testing is deprecated. Use the functions in the public API at pandas.testing instead.\n",
            "  import pandas.util.testing as tm\n"
          ],
          "name": "stderr"
        }
      ]
    },
    {
      "cell_type": "markdown",
      "metadata": {
        "id": "LOhxRLzBc_lm"
      },
      "source": [
        "사이킷 런 머신러닝 패키지(모듈)을 임포트합니다."
      ]
    },
    {
      "cell_type": "code",
      "metadata": {
        "id": "yQAtTQKfc3dU"
      },
      "source": [
        "from sklearn.model_selection import train_test_split\n",
        "from sklearn.neighbors import KNeighborsClassifier\n",
        "from sklearn.metrics import confusion_matrix\n",
        "from sklearn.metrics import classification_report\n",
        "from sklearn.metrics import roc_curve\n",
        "from sklearn.metrics import roc_auc_score\n",
        "\n",
        "# import RPi.GPIO as GPIO\n",
        "# from Adafruit_BME280 import *\n",
        "# import paho.mqtt.publish as publish"
      ],
      "execution_count": null,
      "outputs": []
    },
    {
      "cell_type": "code",
      "metadata": {
        "id": "IG-GTJuac1Uf"
      },
      "source": [
        "df = pd.DataFrame(columns = ['Date', 'Temperature', 'Humidity', 'Pressure'])\n",
        "iteri = 0"
      ],
      "execution_count": null,
      "outputs": []
    },
    {
      "cell_type": "code",
      "metadata": {
        "id": "hZWehCe5eEuD"
      },
      "source": [
        "degrees = 0\n",
        "fah = 0\n",
        "hectopascals = 0\n",
        "humidity = 0\n",
        "global iteri # 프로그램 전체에서 유효한 전역변수(Global Variable), 함수의 코드블록 안에서만 유효한 지역변수(Local Variable)\n",
        "global df  "
      ],
      "execution_count": null,
      "outputs": []
    },
    {
      "cell_type": "markdown",
      "metadata": {
        "id": "1hyi20Bwep2k"
      },
      "source": [
        "### 데이터 로드 및 확인\n",
        "\n",
        " 폴더에 있는 파일을 확인합니다."
      ]
    },
    {
      "cell_type": "code",
      "metadata": {
        "id": "HY6xv0gEepam",
        "colab": {
          "base_uri": "https://localhost:8080/",
          "height": 197
        },
        "outputId": "04b5b619-af62-4343-b0ef-40ead46ea09b"
      },
      "source": [
        "# print(os.listdir('../input'))# 특정 폴더에 있는 .py 파일만 가져와보자.\n",
        "data = pd.read_csv('pandas_simple.csv')\n",
        "data.head()"
      ],
      "execution_count": null,
      "outputs": [
        {
          "output_type": "execute_result",
          "data": {
            "text/html": [
              "<div>\n",
              "<style scoped>\n",
              "    .dataframe tbody tr th:only-of-type {\n",
              "        vertical-align: middle;\n",
              "    }\n",
              "\n",
              "    .dataframe tbody tr th {\n",
              "        vertical-align: top;\n",
              "    }\n",
              "\n",
              "    .dataframe thead th {\n",
              "        text-align: right;\n",
              "    }\n",
              "</style>\n",
              "<table border=\"1\" class=\"dataframe\">\n",
              "  <thead>\n",
              "    <tr style=\"text-align: right;\">\n",
              "      <th></th>\n",
              "      <th>Date</th>\n",
              "      <th>Temperature</th>\n",
              "      <th>Humidity</th>\n",
              "      <th>Pressure</th>\n",
              "      <th>class</th>\n",
              "    </tr>\n",
              "  </thead>\n",
              "  <tbody>\n",
              "    <tr>\n",
              "      <th>0</th>\n",
              "      <td>5/21/2019 4:43</td>\n",
              "      <td>79.705149</td>\n",
              "      <td>29.763173</td>\n",
              "      <td>971.557684</td>\n",
              "      <td>1</td>\n",
              "    </tr>\n",
              "    <tr>\n",
              "      <th>1</th>\n",
              "      <td>5/21/2019 4:43</td>\n",
              "      <td>79.611960</td>\n",
              "      <td>29.644341</td>\n",
              "      <td>971.594328</td>\n",
              "      <td>1</td>\n",
              "    </tr>\n",
              "    <tr>\n",
              "      <th>2</th>\n",
              "      <td>5/21/2019 4:43</td>\n",
              "      <td>79.602869</td>\n",
              "      <td>29.584354</td>\n",
              "      <td>971.582935</td>\n",
              "      <td>1</td>\n",
              "    </tr>\n",
              "    <tr>\n",
              "      <th>3</th>\n",
              "      <td>5/21/2019 4:43</td>\n",
              "      <td>79.600596</td>\n",
              "      <td>29.668567</td>\n",
              "      <td>971.561229</td>\n",
              "      <td>1</td>\n",
              "    </tr>\n",
              "    <tr>\n",
              "      <th>4</th>\n",
              "      <td>5/21/2019 4:43</td>\n",
              "      <td>79.589232</td>\n",
              "      <td>29.668746</td>\n",
              "      <td>971.584034</td>\n",
              "      <td>1</td>\n",
              "    </tr>\n",
              "  </tbody>\n",
              "</table>\n",
              "</div>"
            ],
            "text/plain": [
              "             Date  Temperature   Humidity    Pressure  class\n",
              "0  5/21/2019 4:43    79.705149  29.763173  971.557684      1\n",
              "1  5/21/2019 4:43    79.611960  29.644341  971.594328      1\n",
              "2  5/21/2019 4:43    79.602869  29.584354  971.582935      1\n",
              "3  5/21/2019 4:43    79.600596  29.668567  971.561229      1\n",
              "4  5/21/2019 4:43    79.589232  29.668746  971.584034      1"
            ]
          },
          "metadata": {
            "tags": []
          },
          "execution_count": 7
        }
      ]
    },
    {
      "cell_type": "code",
      "metadata": {
        "id": "vqfTHHRU2VB7",
        "colab": {
          "base_uri": "https://localhost:8080/",
          "height": 34
        },
        "outputId": "fd0377d3-d681-417f-8fd8-7320e7c85fe8"
      },
      "source": [
        "data['Pressure'].min()"
      ],
      "execution_count": null,
      "outputs": [
        {
          "output_type": "execute_result",
          "data": {
            "text/plain": [
              "970.0651999"
            ]
          },
          "metadata": {
            "tags": []
          },
          "execution_count": 12
        }
      ]
    },
    {
      "cell_type": "markdown",
      "metadata": {
        "id": "wvE4iwhshK_7"
      },
      "source": [
        "특징 수와 데이터 인스턴스 수 등 데이터 모양을 확인합니다."
      ]
    },
    {
      "cell_type": "code",
      "metadata": {
        "id": "6qDT9cMchKr-",
        "colab": {
          "base_uri": "https://localhost:8080/",
          "height": 35
        },
        "outputId": "9789c991-fc0f-4de6-c204-2775fc82c4dd"
      },
      "source": [
        "print('Shape of the data set: ' + str(data.shape))"
      ],
      "execution_count": null,
      "outputs": [
        {
          "output_type": "stream",
          "text": [
            "Shape of the data set: (100700, 5)\n"
          ],
          "name": "stdout"
        }
      ]
    },
    {
      "cell_type": "markdown",
      "metadata": {
        "id": "D-QOrSIQhv4O"
      },
      "source": [
        "각 컬럼(특징)별 객수, 평균값, 최소/최대값, 분산값 등 통계정보를 보여줍니다."
      ]
    },
    {
      "cell_type": "code",
      "metadata": {
        "id": "rsTWpU3veiaX",
        "colab": {
          "base_uri": "https://localhost:8080/",
          "height": 197
        },
        "outputId": "3de89504-0552-4287-e417-a68b9e176e6f"
      },
      "source": [
        "print('describe: ')\n",
        "print(data.describe())"
      ],
      "execution_count": null,
      "outputs": [
        {
          "output_type": "stream",
          "text": [
            "describe: \n",
            "         Temperature       Humidity       Pressure          class\n",
            "count  100700.000000  100700.000000  100700.000000  100700.000000\n",
            "mean       78.655029      24.873992     971.047191       0.568759\n",
            "std         1.542127       2.725325       0.553030       0.495252\n",
            "min        76.512917      18.565907     970.065200       0.000000\n",
            "25%        77.281137      23.370627     970.548079       0.000000\n",
            "50%        78.361880      25.432319     971.085230       1.000000\n",
            "75%        79.771346      27.054893     971.528416       1.000000\n",
            "max       108.966686      36.778259     996.029714       1.000000\n"
          ],
          "name": "stdout"
        }
      ]
    },
    {
      "cell_type": "code",
      "metadata": {
        "id": "Mh7o49-xiTGj",
        "colab": {
          "base_uri": "https://localhost:8080/",
          "height": 269
        },
        "outputId": "f83ac5e5-e39c-4896-edcc-0a23d31269f3"
      },
      "source": [
        "print('info: ')\n",
        "print(data.info())"
      ],
      "execution_count": null,
      "outputs": [
        {
          "output_type": "stream",
          "text": [
            "info: \n",
            "<class 'pandas.core.frame.DataFrame'>\n",
            "RangeIndex: 100700 entries, 0 to 100699\n",
            "Data columns (total 5 columns):\n",
            " #   Column       Non-Null Count   Dtype  \n",
            "---  ------       --------------   -----  \n",
            " 0   Date         100700 non-null  object \n",
            " 1   Temperature  100700 non-null  float64\n",
            " 2   Humidity     100700 non-null  float64\n",
            " 3   Pressure     100700 non-null  float64\n",
            " 4   class        100700 non-null  int64  \n",
            "dtypes: float64(3), int64(1), object(1)\n",
            "memory usage: 3.8+ MB\n",
            "None\n"
          ],
          "name": "stdout"
        }
      ]
    },
    {
      "cell_type": "markdown",
      "metadata": {
        "id": "8akFX3zxinpf"
      },
      "source": [
        "nul값은 없는걸로 확인하였다."
      ]
    },
    {
      "cell_type": "markdown",
      "metadata": {
        "id": "yIJEXG59itSt"
      },
      "source": [
        "### 데이터 표시하기\n",
        "\n",
        " 온도 정보가 어떻게 달라지는지 표시합니다. 참고로 데이터는 2일동안 매초 마다 흭득한 온도/습도/기압 정보입니다."
      ]
    },
    {
      "cell_type": "code",
      "metadata": {
        "id": "Kude8_lGim2C",
        "colab": {
          "base_uri": "https://localhost:8080/",
          "height": 359
        },
        "outputId": "a3c942fb-13e1-4a07-e68a-13d84a90d632"
      },
      "source": [
        "plt.rcParams['figure.figsize'] = (20, 10) # rcParams 설정을 활용하면, 차트의 크기와 선의 색, 두께등의 기본 값을 설정할 수 있다.\n",
        "plt.title('Temperature')\n",
        "plt.xlabel('Time(s)')\n",
        "plt.ylabel('Temperature')\n",
        "ax = data['Temperature']\n",
        "plt.plot(ax, label = 'Temperature', color = 'red' )\n",
        "plt.legend()"
      ],
      "execution_count": null,
      "outputs": [
        {
          "output_type": "execute_result",
          "data": {
            "text/plain": [
              "<matplotlib.legend.Legend at 0x7f20ae4f6e48>"
            ]
          },
          "metadata": {
            "tags": []
          },
          "execution_count": 32
        },
        {
          "output_type": "display_data",
          "data": {
            "image/png": "[encoded data removed]",
            "text/plain": [
              "<Figure size 1440x720 with 1 Axes>"
            ]
          },
          "metadata": {
            "tags": [],
            "needs_background": "light"
          }
        }
      ]
    },
    {
      "cell_type": "code",
      "metadata": {
        "id": "rPD9WsVvj0rM",
        "colab": {
          "base_uri": "https://localhost:8080/",
          "height": 71
        },
        "outputId": "f88780dc-59a8-428c-d572-d2391ff59e67"
      },
      "source": [
        "maximum = data['Temperature'].max()\n",
        "minimum = data['Temperature'].min()\n",
        "average = data['Temperature'].mean()\n",
        "\n",
        "print('Maximum : ', maximum, \"(Temperature)\")\n",
        "print('Minimum : ', minimum, \"(Temperature)\")\n",
        "print('Average : ', average, \"(Temperature)\")"
      ],
      "execution_count": null,
      "outputs": [
        {
          "output_type": "stream",
          "text": [
            "Maximum :  108.9666861 (Temperature)\n",
            "Minimum :  76.51291657 (Temperature)\n",
            "Average :  78.6550291487504 (Temperature)\n"
          ],
          "name": "stdout"
        }
      ]
    },
    {
      "cell_type": "markdown",
      "metadata": {
        "id": "Mdv8l2ttszhU"
      },
      "source": [
        "습도는 어떻게 달라지는지 표시해 봅시다."
      ]
    },
    {
      "cell_type": "code",
      "metadata": {
        "id": "7tUgecSsszO2",
        "colab": {
          "base_uri": "https://localhost:8080/",
          "height": 230
        },
        "outputId": "cacf92c2-22df-4def-9c3d-c4b69e0fd462"
      },
      "source": [
        "plt.rcParams['figure.figsize'] = (15, 4)\n",
        "plt.title('Humidity')\n",
        "plt.xlabel('Time(s) ')\n",
        "plt.ylabel('Humidity')\n",
        "ax = data['Humidity']\n",
        "plt.plot(ax, label = 'Humidity', color = 'blue')\n",
        "plt.legend()"
      ],
      "execution_count": null,
      "outputs": [
        {
          "output_type": "execute_result",
          "data": {
            "text/plain": [
              "<matplotlib.legend.Legend at 0x7f20ae463c88>"
            ]
          },
          "metadata": {
            "tags": []
          },
          "execution_count": 45
        },
        {
          "output_type": "display_data",
          "data": {
            "image/png": "[encoded data removed]",
            "text/plain": [
              "<Figure size 1080x288 with 1 Axes>"
            ]
          },
          "metadata": {
            "tags": [],
            "needs_background": "light"
          }
        }
      ]
    },
    {
      "cell_type": "markdown",
      "metadata": {
        "id": "bHH8jd7Utn3r"
      },
      "source": [
        "습도의 최대/최소/평균값 알아보기"
      ]
    },
    {
      "cell_type": "code",
      "metadata": {
        "id": "rdoRhEZBsw78",
        "colab": {
          "base_uri": "https://localhost:8080/",
          "height": 71
        },
        "outputId": "64c1177f-7d41-4b47-c0a2-b7e9551ddfd8"
      },
      "source": [
        "maximum = data['Humidity'].max()\n",
        "minimun = data['Humidity'].min()\n",
        "average = data['Humidity'].mean()\n",
        "\n",
        "print('Maximum: ', maximum, '(Humidity)')\n",
        "print('Minimum: ', minimum, '(Humidity)')\n",
        "print('Average: ', average, '(Humidity)')"
      ],
      "execution_count": null,
      "outputs": [
        {
          "output_type": "stream",
          "text": [
            "Maximum:  36.77825854 (Humidity)\n",
            "Minimum:  76.51291657 (Humidity)\n",
            "Average:  24.873991567532727 (Humidity)\n"
          ],
          "name": "stdout"
        }
      ]
    },
    {
      "cell_type": "markdown",
      "metadata": {
        "id": "wsvjymc5uY0y"
      },
      "source": [
        "기압은 어떻게 달라지는지 표시해보기."
      ]
    },
    {
      "cell_type": "code",
      "metadata": {
        "id": "g3PJdS4tuK80",
        "colab": {
          "base_uri": "https://localhost:8080/",
          "height": 231
        },
        "outputId": "71db821f-f7e1-45c1-9229-7763a830497a"
      },
      "source": [
        "plt.rcParams['figure.figsize'] = (15, 4)\n",
        "plt.title('Pressure')\n",
        "plt.xlabel('Time(s) ')\n",
        "plt.ylabel('Pressure')\n",
        "ax =data['Pressure']\n",
        "plt.plot(ax, label = 'Pressure', color = 'green')\n",
        "plt.legend()"
      ],
      "execution_count": null,
      "outputs": [
        {
          "output_type": "execute_result",
          "data": {
            "text/plain": [
              "<matplotlib.legend.Legend at 0x7f20ae45bf60>"
            ]
          },
          "metadata": {
            "tags": []
          },
          "execution_count": 46
        },
        {
          "output_type": "display_data",
          "data": {
            "image/png": "[encoded data removed]",
            "text/plain": [
              "<Figure size 1080x288 with 1 Axes>"
            ]
          },
          "metadata": {
            "tags": [],
            "needs_background": "light"
          }
        }
      ]
    },
    {
      "cell_type": "markdown",
      "metadata": {
        "id": "0IKoRvdovEPi"
      },
      "source": [
        "기압의 최대, 최소, 평균 알아보기"
      ]
    },
    {
      "cell_type": "code",
      "metadata": {
        "id": "vFPsMgzouYXo",
        "colab": {
          "base_uri": "https://localhost:8080/",
          "height": 70
        },
        "outputId": "a0045f66-8f58-468a-f2e8-87abeb651951"
      },
      "source": [
        "maximum = data['Pressure'].max()\n",
        "minimum = data['Pressure'].min()\n",
        "average = data['Pressure'].mean()\n",
        "\n",
        "print('Maximum: ', maximum, '(Pressure)')\n",
        "print('Minimum: ', minimum, '(Pressure)')\n",
        "print('Average: ', average, '(Pressure)')"
      ],
      "execution_count": null,
      "outputs": [
        {
          "output_type": "stream",
          "text": [
            "Maximum:  996.0297142000001 (Pressure)\n",
            "Minimum:  970.0651999 (Pressure)\n",
            "Average:  971.0471905546507 (Pressure)\n"
          ],
          "name": "stdout"
        }
      ]
    },
    {
      "cell_type": "markdown",
      "metadata": {
        "id": "w6WM84UUvV-x"
      },
      "source": [
        "각 피쳐(컬럼)별로 상관관계 알아보기."
      ]
    },
    {
      "cell_type": "code",
      "metadata": {
        "id": "xDzjbgswvUuL",
        "colab": {
          "base_uri": "https://localhost:8080/",
          "height": 664
        },
        "outputId": "cc5846cd-a1ad-4350-eb05-ab0e18665b87"
      },
      "source": [
        "data.dropna(inplace = True) # 혹시모를 null data를 drop 하기\n",
        "data.drop_duplicates(inplace = True) # 중복되어 있는 것도 drop\n",
        "sns.pairplot(data) # 상관관계를 그려주는 그래프"
      ],
      "execution_count": null,
      "outputs": [
        {
          "output_type": "execute_result",
          "data": {
            "text/plain": [
              "<seaborn.axisgrid.PairGrid at 0x7f20ae3ac9b0>"
            ]
          },
          "metadata": {
            "tags": []
          },
          "execution_count": 53
        },
        {
          "output_type": "display_data",
          "data": {
            "image/png": "[encoded data removed]",
            "text/plain": [
              "<Figure size 720x720 with 20 Axes>"
            ]
          },
          "metadata": {
            "tags": [],
            "needs_background": "light"
          }
        }
      ]
    },
    {
      "cell_type": "code",
      "metadata": {
        "id": "iLlTmNWNviph",
        "colab": {
          "base_uri": "https://localhost:8080/",
          "height": 324
        },
        "outputId": "bcfc452d-5f5c-4fb2-b987-2965b73919b5"
      },
      "source": [
        "plt.figure(figsize = (10, 5))\n",
        "sns.heatmap(data.corr(), annot = True, cmap = 'cubehelix_r')\n",
        "plt.show()"
      ],
      "execution_count": null,
      "outputs": [
        {
          "output_type": "display_data",
          "data": {
            "image/png": "[encoded data removed]",
            "text/plain": [
              "<Figure size 720x360 with 2 Axes>"
            ]
          },
          "metadata": {
            "tags": [],
            "needs_background": "light"
          }
        }
      ]
    },
    {
      "cell_type": "markdown",
      "metadata": {
        "id": "s0KaeyR6wX2K"
      },
      "source": [
        "여기까지가 EDA 끝"
      ]
    },
    {
      "cell_type": "markdown",
      "metadata": {
        "id": "n1nsJJi6wbeg"
      },
      "source": [
        "### 머신러닝 \n",
        "\n",
        "온도/습도/기압 데이터를 이용하여 학습시킨 후 예측을 해보겠다.\n",
        "현재 data에 들어있는 데이터부터 확인하기."
      ]
    },
    {
      "cell_type": "code",
      "metadata": {
        "id": "-P3e0lJKwbDY",
        "colab": {
          "base_uri": "https://localhost:8080/",
          "height": 204
        },
        "outputId": "71b4f826-d2d6-4969-e08f-0651ed0d1cde"
      },
      "source": [
        "data.head()"
      ],
      "execution_count": null,
      "outputs": [
        {
          "output_type": "execute_result",
          "data": {
            "text/html": [
              "<div>\n",
              "<style scoped>\n",
              "    .dataframe tbody tr th:only-of-type {\n",
              "        vertical-align: middle;\n",
              "    }\n",
              "\n",
              "    .dataframe tbody tr th {\n",
              "        vertical-align: top;\n",
              "    }\n",
              "\n",
              "    .dataframe thead th {\n",
              "        text-align: right;\n",
              "    }\n",
              "</style>\n",
              "<table border=\"1\" class=\"dataframe\">\n",
              "  <thead>\n",
              "    <tr style=\"text-align: right;\">\n",
              "      <th></th>\n",
              "      <th>Date</th>\n",
              "      <th>Temperature</th>\n",
              "      <th>Humidity</th>\n",
              "      <th>Pressure</th>\n",
              "      <th>class</th>\n",
              "    </tr>\n",
              "  </thead>\n",
              "  <tbody>\n",
              "    <tr>\n",
              "      <th>0</th>\n",
              "      <td>5/21/2019 4:43</td>\n",
              "      <td>79.705149</td>\n",
              "      <td>29.763173</td>\n",
              "      <td>971.557684</td>\n",
              "      <td>1</td>\n",
              "    </tr>\n",
              "    <tr>\n",
              "      <th>1</th>\n",
              "      <td>5/21/2019 4:43</td>\n",
              "      <td>79.611960</td>\n",
              "      <td>29.644341</td>\n",
              "      <td>971.594328</td>\n",
              "      <td>1</td>\n",
              "    </tr>\n",
              "    <tr>\n",
              "      <th>2</th>\n",
              "      <td>5/21/2019 4:43</td>\n",
              "      <td>79.602869</td>\n",
              "      <td>29.584354</td>\n",
              "      <td>971.582935</td>\n",
              "      <td>1</td>\n",
              "    </tr>\n",
              "    <tr>\n",
              "      <th>3</th>\n",
              "      <td>5/21/2019 4:43</td>\n",
              "      <td>79.600596</td>\n",
              "      <td>29.668567</td>\n",
              "      <td>971.561229</td>\n",
              "      <td>1</td>\n",
              "    </tr>\n",
              "    <tr>\n",
              "      <th>4</th>\n",
              "      <td>5/21/2019 4:43</td>\n",
              "      <td>79.589232</td>\n",
              "      <td>29.668746</td>\n",
              "      <td>971.584034</td>\n",
              "      <td>1</td>\n",
              "    </tr>\n",
              "  </tbody>\n",
              "</table>\n",
              "</div>"
            ],
            "text/plain": [
              "             Date  Temperature   Humidity    Pressure  class\n",
              "0  5/21/2019 4:43    79.705149  29.763173  971.557684      1\n",
              "1  5/21/2019 4:43    79.611960  29.644341  971.594328      1\n",
              "2  5/21/2019 4:43    79.602869  29.584354  971.582935      1\n",
              "3  5/21/2019 4:43    79.600596  29.668567  971.561229      1\n",
              "4  5/21/2019 4:43    79.589232  29.668746  971.584034      1"
            ]
          },
          "metadata": {
            "tags": []
          },
          "execution_count": 59
        }
      ]
    },
    {
      "cell_type": "code",
      "metadata": {
        "id": "9F1yS1fYzYQD"
      },
      "source": [
        ""
      ],
      "execution_count": null,
      "outputs": []
    },
    {
      "cell_type": "markdown",
      "metadata": {
        "id": "Hr9YqPHbwuNn"
      },
      "source": [
        "정답(class)를 빼서 데이터 프레임 x를, 그리고 정답을 갖는 데이터 프레임 y를 만들기."
      ]
    },
    {
      "cell_type": "code",
      "metadata": {
        "id": "BAsyws3HwZpR"
      },
      "source": [
        "data2 = data[['Temperature', 'Humidity', 'Pressure', 'class']]"
      ],
      "execution_count": null,
      "outputs": []
    },
    {
      "cell_type": "code",
      "metadata": {
        "id": "FS1Eo8aJw8g7",
        "colab": {
          "base_uri": "https://localhost:8080/",
          "height": 204
        },
        "outputId": "b3e23dd8-b359-4b7b-8271-7cbe78d58482"
      },
      "source": [
        "data2.head()"
      ],
      "execution_count": null,
      "outputs": [
        {
          "output_type": "execute_result",
          "data": {
            "text/html": [
              "<div>\n",
              "<style scoped>\n",
              "    .dataframe tbody tr th:only-of-type {\n",
              "        vertical-align: middle;\n",
              "    }\n",
              "\n",
              "    .dataframe tbody tr th {\n",
              "        vertical-align: top;\n",
              "    }\n",
              "\n",
              "    .dataframe thead th {\n",
              "        text-align: right;\n",
              "    }\n",
              "</style>\n",
              "<table border=\"1\" class=\"dataframe\">\n",
              "  <thead>\n",
              "    <tr style=\"text-align: right;\">\n",
              "      <th></th>\n",
              "      <th>Temperature</th>\n",
              "      <th>Humidity</th>\n",
              "      <th>Pressure</th>\n",
              "      <th>class</th>\n",
              "    </tr>\n",
              "  </thead>\n",
              "  <tbody>\n",
              "    <tr>\n",
              "      <th>0</th>\n",
              "      <td>79.705149</td>\n",
              "      <td>29.763173</td>\n",
              "      <td>971.557684</td>\n",
              "      <td>1</td>\n",
              "    </tr>\n",
              "    <tr>\n",
              "      <th>1</th>\n",
              "      <td>79.611960</td>\n",
              "      <td>29.644341</td>\n",
              "      <td>971.594328</td>\n",
              "      <td>1</td>\n",
              "    </tr>\n",
              "    <tr>\n",
              "      <th>2</th>\n",
              "      <td>79.602869</td>\n",
              "      <td>29.584354</td>\n",
              "      <td>971.582935</td>\n",
              "      <td>1</td>\n",
              "    </tr>\n",
              "    <tr>\n",
              "      <th>3</th>\n",
              "      <td>79.600596</td>\n",
              "      <td>29.668567</td>\n",
              "      <td>971.561229</td>\n",
              "      <td>1</td>\n",
              "    </tr>\n",
              "    <tr>\n",
              "      <th>4</th>\n",
              "      <td>79.589232</td>\n",
              "      <td>29.668746</td>\n",
              "      <td>971.584034</td>\n",
              "      <td>1</td>\n",
              "    </tr>\n",
              "  </tbody>\n",
              "</table>\n",
              "</div>"
            ],
            "text/plain": [
              "   Temperature   Humidity    Pressure  class\n",
              "0    79.705149  29.763173  971.557684      1\n",
              "1    79.611960  29.644341  971.594328      1\n",
              "2    79.602869  29.584354  971.582935      1\n",
              "3    79.600596  29.668567  971.561229      1\n",
              "4    79.589232  29.668746  971.584034      1"
            ]
          },
          "metadata": {
            "tags": []
          },
          "execution_count": 61
        }
      ]
    },
    {
      "cell_type": "code",
      "metadata": {
        "id": "dPT3WDaYw-KM",
        "colab": {
          "base_uri": "https://localhost:8080/",
          "height": 366
        },
        "outputId": "0fc2cbb6-2332-4f9f-c251-1ded627356b1"
      },
      "source": [
        "x = data2.drop('class', axis = 1).values\n",
        "print(x)\n",
        "print('-----------------------------------------------')\n",
        "y = data2['class'].values\n",
        "print(y)\n",
        "\n",
        "data2.head()"
      ],
      "execution_count": null,
      "outputs": [
        {
          "output_type": "stream",
          "text": [
            "[[ 79.70514864  29.76317298 971.5576837 ]\n",
            " [ 79.61196046  29.64434119 971.5943276 ]\n",
            " [ 79.60286893  29.58435374 971.5829352 ]\n",
            " ...\n",
            " [ 82.26898164  27.50340858 970.7174237 ]\n",
            " [ 82.2814827   27.60574036 970.6951369 ]\n",
            " [ 82.29057438  27.62367204 970.6468546 ]]\n",
            "-----------------------------------------------\n",
            "[1 1 1 ... 1 1 1]\n"
          ],
          "name": "stdout"
        },
        {
          "output_type": "execute_result",
          "data": {
            "text/html": [
              "<div>\n",
              "<style scoped>\n",
              "    .dataframe tbody tr th:only-of-type {\n",
              "        vertical-align: middle;\n",
              "    }\n",
              "\n",
              "    .dataframe tbody tr th {\n",
              "        vertical-align: top;\n",
              "    }\n",
              "\n",
              "    .dataframe thead th {\n",
              "        text-align: right;\n",
              "    }\n",
              "</style>\n",
              "<table border=\"1\" class=\"dataframe\">\n",
              "  <thead>\n",
              "    <tr style=\"text-align: right;\">\n",
              "      <th></th>\n",
              "      <th>Temperature</th>\n",
              "      <th>Humidity</th>\n",
              "      <th>Pressure</th>\n",
              "      <th>class</th>\n",
              "    </tr>\n",
              "  </thead>\n",
              "  <tbody>\n",
              "    <tr>\n",
              "      <th>0</th>\n",
              "      <td>79.705149</td>\n",
              "      <td>29.763173</td>\n",
              "      <td>971.557684</td>\n",
              "      <td>1</td>\n",
              "    </tr>\n",
              "    <tr>\n",
              "      <th>1</th>\n",
              "      <td>79.611960</td>\n",
              "      <td>29.644341</td>\n",
              "      <td>971.594328</td>\n",
              "      <td>1</td>\n",
              "    </tr>\n",
              "    <tr>\n",
              "      <th>2</th>\n",
              "      <td>79.602869</td>\n",
              "      <td>29.584354</td>\n",
              "      <td>971.582935</td>\n",
              "      <td>1</td>\n",
              "    </tr>\n",
              "    <tr>\n",
              "      <th>3</th>\n",
              "      <td>79.600596</td>\n",
              "      <td>29.668567</td>\n",
              "      <td>971.561229</td>\n",
              "      <td>1</td>\n",
              "    </tr>\n",
              "    <tr>\n",
              "      <th>4</th>\n",
              "      <td>79.589232</td>\n",
              "      <td>29.668746</td>\n",
              "      <td>971.584034</td>\n",
              "      <td>1</td>\n",
              "    </tr>\n",
              "  </tbody>\n",
              "</table>\n",
              "</div>"
            ],
            "text/plain": [
              "   Temperature   Humidity    Pressure  class\n",
              "0    79.705149  29.763173  971.557684      1\n",
              "1    79.611960  29.644341  971.594328      1\n",
              "2    79.602869  29.584354  971.582935      1\n",
              "3    79.600596  29.668567  971.561229      1\n",
              "4    79.589232  29.668746  971.584034      1"
            ]
          },
          "metadata": {
            "tags": []
          },
          "execution_count": 71
        }
      ]
    },
    {
      "cell_type": "markdown",
      "metadata": {
        "id": "DzshWWtkxwlc"
      },
      "source": [
        "입력 데이터 x와 정답 데이터 y를 적절하게 나누어서 학습용, 테스트용으로 구성하기."
      ]
    },
    {
      "cell_type": "code",
      "metadata": {
        "id": "3wlVwFJKxvDs"
      },
      "source": [
        "x_train, x_test, y_train, y_test = train_test_split(x, y, test_size = 0.4, random_state = 42, stratify = y )"
      ],
      "execution_count": null,
      "outputs": []
    },
    {
      "cell_type": "markdown",
      "metadata": {
        "id": "q-IqRP1kyfwJ"
      },
      "source": [
        "k-NN 머신러닝 알고리즘을 이용하여 학습시키기."
      ]
    },
    {
      "cell_type": "code",
      "metadata": {
        "id": "wiCU3c1Axsgq",
        "colab": {
          "base_uri": "https://localhost:8080/",
          "height": 359
        },
        "outputId": "f656435b-a564-4d60-da1d-87328ada8a09"
      },
      "source": [
        "neighbors = np.arange(1, 9)\n",
        "print(neighbors)\n",
        "# 값을 저장할 배열을 미리 만들어 둠. 생성된 배열 값은 기존 메모리에 있는 값이 들어 있어서\n",
        "# 이상한 값이 들어 있을 수 있음.\n",
        "\n",
        "train_accuracy = np.empty(len(neighbors)) # np.empty: 초기값으로 생성\n",
        "print(train_accuracy)\n",
        "\n",
        "test_accuracy = np.empty(len(neighbors))\n",
        "print(test_accuracy)\n",
        "\n",
        "# enumerate() 참고링크--> https://blog.naver.com/pmw9440/222013436194 \n",
        "\n",
        "for i, k  in enumerate(neighbors):  # enumerate(): 순서가 있는 자료형(리스트, 튜플, 문자열)을 입력받아 인덱스와 값을 포함하는 enumerate 객체를 리턴하는 함수\n",
        "  print(i+ 1, k) # i는 인덱스 번호, 즉 순서를 가리킨다.\n",
        "  knn = KNeighborsClassifier(n_neighbors = k)\n",
        "\n",
        "  knn.fit(x_train, y_train)\n",
        "\n",
        "  train_accuracy[i] = knn.score(x_train, y_train)\n",
        "  test_accuracy[i] = knn.score(x_test, y_test)\n",
        "  print(train_accuracy[i], test_accuracy[i])\n",
        "\n"
      ],
      "execution_count": null,
      "outputs": [
        {
          "output_type": "stream",
          "text": [
            "[1 2 3 4 5 6 7 8]\n",
            "[4.9e-324 9.9e-324 1.5e-323 2.0e-323 2.5e-323 3.0e-323 3.5e-323 4.0e-323]\n",
            "[4.9e-324 9.9e-324 1.5e-323 2.0e-323 2.5e-323 3.0e-323 3.5e-323 4.0e-323]\n",
            "1 1\n",
            "1.0 0.9978377034919846\n",
            "2 2\n",
            "0.9991880965005302 0.9976140176463278\n",
            "3 3\n",
            "0.9991715270413574 0.9977382875605816\n",
            "4 4\n",
            "0.9988898462354189 0.9977382875605816\n",
            "5 5\n",
            "0.9989064156945917 0.9976885795948801\n",
            "6 6\n",
            "0.9985750265111347 0.9974648937492233\n",
            "7 7\n",
            "0.9986247348886532 0.9976140176463278\n",
            "8 8\n",
            "0.9984093319194062 0.9973654778178203\n"
          ],
          "name": "stdout"
        }
      ]
    },
    {
      "cell_type": "code",
      "metadata": {
        "id": "Q6VrhqrOzMHj",
        "colab": {
          "base_uri": "https://localhost:8080/",
          "height": 458
        },
        "outputId": "887a8c6b-07ce-4e7c-9ed5-5b25b9017647"
      },
      "source": [
        "plt.figure(figsize = (10, 7))\n",
        "plt.title('k-NN Varying number of neighbors')\n",
        "plt.plot(neighbors, test_accuracy, label = 'Testing Accuracy')\n",
        "plt.plot(neighbors, train_accuracy, label = 'Training accuracy')\n",
        "plt.legend()\n",
        "plt.xlabel('Number of neighbors')\n",
        "plt.ylabel('Accuracy')\n",
        "plt.show()"
      ],
      "execution_count": null,
      "outputs": [
        {
          "output_type": "display_data",
          "data": {
            "image/png": "[encoded data removed]",
            "text/plain": [
              "<Figure size 720x504 with 1 Axes>"
            ]
          },
          "metadata": {
            "tags": [],
            "needs_background": "light"
          }
        }
      ]
    },
    {
      "cell_type": "code",
      "metadata": {
        "id": "ErqXF-mvydKQ",
        "colab": {
          "base_uri": "https://localhost:8080/",
          "height": 35
        },
        "outputId": "7f978752-c7c7-4cf3-9d01-84f5657d9de6"
      },
      "source": [
        "knn = KNeighborsClassifier(n_neighbors = 1)\n",
        "knn.fit(x_train, y_train)\n",
        "score = knn.score(x_test, y_test)\n",
        "print(score)"
      ],
      "execution_count": null,
      "outputs": [
        {
          "output_type": "stream",
          "text": [
            "0.9978377034919846\n"
          ],
          "name": "stdout"
        }
      ]
    },
    {
      "cell_type": "code",
      "metadata": {
        "id": "eia8Zls22tz_",
        "colab": {
          "base_uri": "https://localhost:8080/",
          "height": 35
        },
        "outputId": "d93d9402-8286-4557-abc1-4163cd72de19"
      },
      "source": [
        "y_pred = knn.predict(x_test)\n",
        "print('예측한 값: ', y_pred)"
      ],
      "execution_count": null,
      "outputs": [
        {
          "output_type": "stream",
          "text": [
            "예측한 값:  [1 0 1 ... 1 1 0]\n"
          ],
          "name": "stdout"
        }
      ]
    },
    {
      "cell_type": "markdown",
      "metadata": {
        "id": "j-meBJIa3EI3"
      },
      "source": [
        "몇개를 틀렸는지 확인하기 confusion으로"
      ]
    },
    {
      "cell_type": "code",
      "metadata": {
        "id": "JSIzflpU3A5_",
        "colab": {
          "base_uri": "https://localhost:8080/",
          "height": 53
        },
        "outputId": "b9eed8f9-a2b8-448f-8f99-86c7c1c4f971"
      },
      "source": [
        "confusion_matrix(y_test, y_pred)"
      ],
      "execution_count": null,
      "outputs": [
        {
          "output_type": "execute_result",
          "data": {
            "text/plain": [
              "array([[17301,    41],\n",
              "       [   46, 22847]])"
            ]
          },
          "metadata": {
            "tags": []
          },
          "execution_count": 85
        }
      ]
    },
    {
      "cell_type": "markdown",
      "metadata": {
        "id": "31I01ezo3Q1g"
      },
      "source": [
        "실제로 positive(1)인데 positive(1)로 예측한 것은 17301개, 0으로 잘못 예측한 수는 41개입니다.\n",
        "실제로 negative(0)인데 positive(1)로 잘못 예측한 것은 46개, 0으로 잘 예측한 것은 22847개입니다."
      ]
    },
    {
      "cell_type": "code",
      "metadata": {
        "id": "XPRhkjp_3M41",
        "colab": {
          "base_uri": "https://localhost:8080/",
          "height": 173
        },
        "outputId": "2b2a78c5-5abc-4f75-a33b-7312fd1d7ba6"
      },
      "source": [
        "pd.crosstab(y_test, y_pred, rownames=['True'], colnames=['Predicted'], margins=True)"
      ],
      "execution_count": null,
      "outputs": [
        {
          "output_type": "execute_result",
          "data": {
            "text/html": [
              "<div>\n",
              "<style scoped>\n",
              "    .dataframe tbody tr th:only-of-type {\n",
              "        vertical-align: middle;\n",
              "    }\n",
              "\n",
              "    .dataframe tbody tr th {\n",
              "        vertical-align: top;\n",
              "    }\n",
              "\n",
              "    .dataframe thead th {\n",
              "        text-align: right;\n",
              "    }\n",
              "</style>\n",
              "<table border=\"1\" class=\"dataframe\">\n",
              "  <thead>\n",
              "    <tr style=\"text-align: right;\">\n",
              "      <th>Predicted</th>\n",
              "      <th>0</th>\n",
              "      <th>1</th>\n",
              "      <th>All</th>\n",
              "    </tr>\n",
              "    <tr>\n",
              "      <th>True</th>\n",
              "      <th></th>\n",
              "      <th></th>\n",
              "      <th></th>\n",
              "    </tr>\n",
              "  </thead>\n",
              "  <tbody>\n",
              "    <tr>\n",
              "      <th>0</th>\n",
              "      <td>17301</td>\n",
              "      <td>41</td>\n",
              "      <td>17342</td>\n",
              "    </tr>\n",
              "    <tr>\n",
              "      <th>1</th>\n",
              "      <td>46</td>\n",
              "      <td>22847</td>\n",
              "      <td>22893</td>\n",
              "    </tr>\n",
              "    <tr>\n",
              "      <th>All</th>\n",
              "      <td>17347</td>\n",
              "      <td>22888</td>\n",
              "      <td>40235</td>\n",
              "    </tr>\n",
              "  </tbody>\n",
              "</table>\n",
              "</div>"
            ],
            "text/plain": [
              "Predicted      0      1    All\n",
              "True                          \n",
              "0          17301     41  17342\n",
              "1             46  22847  22893\n",
              "All        17347  22888  40235"
            ]
          },
          "metadata": {
            "tags": []
          },
          "execution_count": 86
        }
      ]
    },
    {
      "cell_type": "code",
      "metadata": {
        "id": "_mAnEsIw3X1P"
      },
      "source": [
        ""
      ],
      "execution_count": null,
      "outputs": []
    }
  ]
}